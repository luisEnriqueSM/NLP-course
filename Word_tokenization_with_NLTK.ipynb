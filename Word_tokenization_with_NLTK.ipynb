{
 "cells": [
  {
   "cell_type": "code",
   "execution_count": 52,
   "id": "0e4ecc6c-2732-4362-ad92-23b94bf64293",
   "metadata": {},
   "outputs": [
    {
     "name": "stderr",
     "output_type": "stream",
     "text": [
      "[nltk_data] Downloading package punkt to\n",
      "[nltk_data]     /Users/luisenrique/nltk_data...\n",
      "[nltk_data]   Package punkt is already up-to-date!\n"
     ]
    },
    {
     "data": {
      "text/plain": [
       "True"
      ]
     },
     "execution_count": 52,
     "metadata": {},
     "output_type": "execute_result"
    }
   ],
   "source": [
    "import nltk\n",
    "nltk.download('punkt')"
   ]
  },
  {
   "cell_type": "code",
   "execution_count": 53,
   "id": "8f54db05-2dc6-48dc-aacf-1af2913c3a08",
   "metadata": {},
   "outputs": [],
   "source": [
    "# Import necessary modules\n",
    "from nltk.tokenize import sent_tokenize \n",
    "from nltk.tokenize import word_tokenize"
   ]
  },
  {
   "cell_type": "code",
   "execution_count": 54,
   "id": "1726af2b-1640-4aef-8515-d829bd88c026",
   "metadata": {},
   "outputs": [],
   "source": [
    "scene_one = \"SCENE 1: [wind] [clop clop clop] \\nKING ARTHUR: Whoa there!  [clop clop clop] \\nSOLDIER #1: Halt!  Who goes there?\\nARTHUR: It is I, Arthur, son of Uther Pendragon, from the castle of Camelot.  King of the Britons, defeator of the Saxons, sovereign of all England!\\nSOLDIER #1: Pull the other one!\\nARTHUR: I am, ...  and this is my trusty servant Patsy.  We have ridden the length and breadth of the land in search of knights who will join me in my court at Camelot.  I must speak with your lord and master.\\nSOLDIER #1: What?  Ridden on a horse?\\nARTHUR: Yes!\\nSOLDIER #1: You're using coconuts!\\nARTHUR: What?\\nSOLDIER #1: You've got two empty halves of coconut and you're bangin' 'em together.\\nARTHUR: So?  We have ridden since the snows of winter covered this land, through the kingdom of Mercea, through--\\nSOLDIER #1: Where'd you get the coconuts?\\nARTHUR: We found them.\\nSOLDIER #1: Found them?  In Mercea?  The coconut's tropical!\\nARTHUR: What do you mean?\\nSOLDIER #1: Well, this is a temperate zone.\\nARTHUR: The swallow may fly south with the sun or the house martin or the plover may seek warmer climes in winter, yet these are not strangers to our land?\\nSOLDIER #1: Are you suggesting coconuts migrate?\\nARTHUR: Not at all.  They could be carried.\\nSOLDIER #1: What?  A swallow carrying a coconut?\\nARTHUR: It could grip it by the husk!\\nSOLDIER #1: It's not a question of where he grips it!  It's a simple question of weight ratios!  A five ounce bird could not carry a one pound coconut.\\nARTHUR: Well, it doesn't matter.  Will you go and tell your master that Arthur from the Court of Camelot is here.\\nSOLDIER #1: Listen.  In order to maintain air-speed velocity, a swallow needs to beat its wings forty-three times every second, right?\\nARTHUR: Please!\\nSOLDIER #1: Am I right?\\nARTHUR: I'm not interested!\\nSOLDIER #2: It could be carried by an African swallow!\\nSOLDIER #1: Oh, yeah, an African swallow maybe, but not a European swallow.  That's my point.\\nSOLDIER #2: Oh, yeah, I agree with that.\\nARTHUR: Will you ask your master if he wants to join my court at Camelot?!\\nSOLDIER #1: But then of course a-- African swallows are non-migratory.\\nSOLDIER #2: Oh, yeah...\\nSOLDIER #1: So they couldn't bring a coconut back anyway...  [clop clop clop] \\nSOLDIER #2: Wait a minute!  Supposing two swallows carried it together?\\nSOLDIER #1: No, they'd have to have it on a line.\\nSOLDIER #2: Well, simple!  They'd just use a strand of creeper!\\nSOLDIER #1: What, held under the dorsal guiding feathers?\\nSOLDIER #2: Well, why not?\\n\""
   ]
  },
  {
   "cell_type": "code",
   "execution_count": 55,
   "id": "80ddc785-9349-4468-bb89-0526a5ee9fad",
   "metadata": {},
   "outputs": [],
   "source": [
    "# Split scene_one into sentences: sentences\n",
    "\n",
    "# Qué hace:\n",
    "# Divide (tokeniza) un texto en oraciones.\n",
    "\n",
    "# Cómo funciona:\n",
    "#Usa modelos preentrenados para detectar los límites de una oración (por ejemplo, puntos seguidos de espacio, abreviaturas, signos de interrogación, etc.).\n",
    "sentences = sent_tokenize(scene_one)"
   ]
  },
  {
   "cell_type": "code",
   "execution_count": 56,
   "id": "2a8da8c6-18bf-4b84-8101-4447c6c49059",
   "metadata": {},
   "outputs": [],
   "source": [
    "# Use word_tokenize to tokenize the fourth sentence: tokenized_sent\n",
    "\n",
    "# Qué hace:\n",
    "# Divide un texto en palabras y signos de puntuación.\n",
    "\n",
    "# Cómo funciona:\n",
    "# Usa un tokenizador más complejo basado en expresiones regulares y reglas lingüísticas.\n",
    "    \n",
    "tokenized_sent = word_tokenize(sentences[3])"
   ]
  },
  {
   "cell_type": "code",
   "execution_count": 57,
   "id": "55a5ab63-b4a9-40bc-8646-a89d3168f8cd",
   "metadata": {},
   "outputs": [],
   "source": [
    "# Make a set of unique tokens in the entire scene: unique_tokens\n",
    "unique_tokens = set(word_tokenize(scene_one))"
   ]
  },
  {
   "cell_type": "code",
   "execution_count": 58,
   "id": "606bf442-9e71-43fe-8df0-ffc5d6b3036c",
   "metadata": {},
   "outputs": [
    {
     "name": "stdout",
     "output_type": "stream",
     "text": [
      "{'together', 'trusty', 'have', 'winter', 'to', 'Where', 'European', 'dorsal', 'who', 'maybe', 'court', 'African', 'one', 'Halt', 'clop', 'We', 'through', 'ratios', 'yet', \"n't\", 'Camelot', 'Pendragon', 'zone', 'that', 'feathers', 'bangin', 'then', \"'\", ':', 'point', '!', \"'d\", \"'s\", 'lord', 'every', 'he', '2', 'is', 'land', 'coconut', 'non-migratory', 'temperate', 'strand', 'coconuts', '#', 'since', 'second', 'KING', 'But', 'just', 'carry', 'SOLDIER', 'bird', 'knights', '[', 'your', 'seek', 'carrying', 'sun', 'horse', 'this', 'times', 'could', 'with', 'five', 'I', 'warmer', 'two', '--', 'house', 'husk', 'master', 'not', \"'m\", 'the', '.', 'there', 'sovereign', 'search', 'do', 'ounce', 'fly', 'me', 'at', 'tropical', 'got', 'swallow', 'servant', 'wings', 'back', 'empty', 'of', 'are', 'may', 'Who', 'Supposing', 'simple', 'ridden', 'an', 'Oh', 'if', 'ask', 'goes', 'guiding', 'bring', 'Uther', 'King', 'It', ']', 'Arthur', 'ARTHUR', 'all', 'grip', 'mean', 'snows', 'am', 'order', 'go', 'its', 'using', 'on', 'suggesting', 'does', 'or', 'these', '?', 'Yes', 'carried', 'swallows', 'creeper', 'They', 'castle', 'must', 'in', 'defeator', 'found', 'Patsy', 'Mercea', 'air-speed', \"'re\", 'line', 'Ridden', 'Whoa', 'So', 'son', 'migrate', 'and', 'be', 'under', 'velocity', 'will', 'you', 'Will', 'why', 'use', 'speak', 'In', 'south', \"'ve\", 'climes', 'course', 'Court', '1', 'wind', 'The', 'halves', 'needs', 'plover', 'interested', 'my', 'agree', 'they', 'beat', 'Listen', 'You', 'them', 'Pull', 'What', 'tell', 'martin', 'covered', 'wants', 'it', 'question', 'from', 'matter', 'maintain', '...', 'length', 'right', 'a', 'where', 'minute', 'A', 'but', 'Well', 'Found', 'Wait', 'join', 'pound', 'anyway', 'SCENE', \"'em\", 'held', 'grips', 'weight', 'here', 'Please', 'our', 'Am', 'other', 'kingdom', 'yeah', 'Not', 'forty-three', 'strangers', 'Britons', 'breadth', 'get', 'Are', 'That', 'Saxons', 'England', 'by', ',', 'No'}\n"
     ]
    }
   ],
   "source": [
    "# Print the unique tokens result\n",
    "print(unique_tokens)"
   ]
  },
  {
   "cell_type": "code",
   "execution_count": 59,
   "id": "0a9291c1-5004-4a9c-88e5-13d7d9b8db9e",
   "metadata": {},
   "outputs": [
    {
     "name": "stdout",
     "output_type": "stream",
     "text": [
      "['SCENE 1: [wind] [clop clop clop] \\nKING ARTHUR: Whoa there!', '[clop clop clop] \\nSOLDIER #1: Halt!', 'Who goes there?', 'ARTHUR: It is I, Arthur, son of Uther Pendragon, from the castle of Camelot.', 'King of the Britons, defeator of the Saxons, sovereign of all England!', 'SOLDIER #1: Pull the other one!', 'ARTHUR: I am, ...  and this is my trusty servant Patsy.', 'We have ridden the length and breadth of the land in search of knights who will join me in my court at Camelot.', 'I must speak with your lord and master.', 'SOLDIER #1: What?', 'Ridden on a horse?', 'ARTHUR: Yes!', \"SOLDIER #1: You're using coconuts!\", 'ARTHUR: What?', \"SOLDIER #1: You've got two empty halves of coconut and you're bangin' 'em together.\", 'ARTHUR: So?', \"We have ridden since the snows of winter covered this land, through the kingdom of Mercea, through--\\nSOLDIER #1: Where'd you get the coconuts?\", 'ARTHUR: We found them.', 'SOLDIER #1: Found them?', 'In Mercea?', \"The coconut's tropical!\", 'ARTHUR: What do you mean?', 'SOLDIER #1: Well, this is a temperate zone.', 'ARTHUR: The swallow may fly south with the sun or the house martin or the plover may seek warmer climes in winter, yet these are not strangers to our land?', 'SOLDIER #1: Are you suggesting coconuts migrate?', 'ARTHUR: Not at all.', 'They could be carried.', 'SOLDIER #1: What?', 'A swallow carrying a coconut?', 'ARTHUR: It could grip it by the husk!', \"SOLDIER #1: It's not a question of where he grips it!\", \"It's a simple question of weight ratios!\", 'A five ounce bird could not carry a one pound coconut.', \"ARTHUR: Well, it doesn't matter.\", 'Will you go and tell your master that Arthur from the Court of Camelot is here.', 'SOLDIER #1: Listen.', 'In order to maintain air-speed velocity, a swallow needs to beat its wings forty-three times every second, right?', 'ARTHUR: Please!', 'SOLDIER #1: Am I right?', \"ARTHUR: I'm not interested!\", 'SOLDIER #2: It could be carried by an African swallow!', 'SOLDIER #1: Oh, yeah, an African swallow maybe, but not a European swallow.', \"That's my point.\", 'SOLDIER #2: Oh, yeah, I agree with that.', 'ARTHUR: Will you ask your master if he wants to join my court at Camelot?!', 'SOLDIER #1: But then of course a-- African swallows are non-migratory.', 'SOLDIER #2: Oh, yeah...', \"SOLDIER #1: So they couldn't bring a coconut back anyway...  [clop clop clop] \\nSOLDIER #2: Wait a minute!\", 'Supposing two swallows carried it together?', \"SOLDIER #1: No, they'd have to have it on a line.\", 'SOLDIER #2: Well, simple!', \"They'd just use a strand of creeper!\", 'SOLDIER #1: What, held under the dorsal guiding feathers?', 'SOLDIER #2: Well, why not?']\n"
     ]
    }
   ],
   "source": [
    "print(sentences)"
   ]
  },
  {
   "cell_type": "code",
   "execution_count": 60,
   "id": "a3fb7cd6-d431-4e43-a258-f93680d7280c",
   "metadata": {},
   "outputs": [
    {
     "name": "stdout",
     "output_type": "stream",
     "text": [
      "ARTHUR: It is I, Arthur, son of Uther Pendragon, from the castle of Camelot.\n"
     ]
    }
   ],
   "source": [
    "print(sentences[3])"
   ]
  },
  {
   "cell_type": "code",
   "execution_count": 61,
   "id": "661d1797-ced2-45b9-83d8-89ac17a05c8c",
   "metadata": {},
   "outputs": [
    {
     "name": "stdout",
     "output_type": "stream",
     "text": [
      "['ARTHUR', ':', 'It', 'is', 'I', ',', 'Arthur', ',', 'son', 'of', 'Uther', 'Pendragon', ',', 'from', 'the', 'castle', 'of', 'Camelot', '.']\n"
     ]
    }
   ],
   "source": [
    "print(tokenized_sent)"
   ]
  },
  {
   "cell_type": "code",
   "execution_count": 65,
   "id": "5dedb256-bf3b-496c-99a3-dca558c42aff",
   "metadata": {},
   "outputs": [],
   "source": [
    "import re"
   ]
  },
  {
   "cell_type": "code",
   "execution_count": 67,
   "id": "e5fbc0c3-024b-4221-bf33-0c6cf58305d0",
   "metadata": {},
   "outputs": [],
   "source": [
    "# Search for the first occurrence of \"coconuts\" in scene_one: match\n",
    "match = re.search(\"coconuts\", scene_one)"
   ]
  },
  {
   "cell_type": "code",
   "execution_count": 69,
   "id": "d1c04a70-a945-41f9-8bf0-0f636e40bb5f",
   "metadata": {},
   "outputs": [
    {
     "name": "stdout",
     "output_type": "stream",
     "text": [
      "580 588\n"
     ]
    }
   ],
   "source": [
    "# Print the start and end indexes of match\n",
    "print(match.start(), match.end())"
   ]
  },
  {
   "cell_type": "code",
   "execution_count": 95,
   "id": "aa352659-1161-4f6e-ad3d-56643641c8bb",
   "metadata": {},
   "outputs": [],
   "source": [
    "# Write a regular expression to search for anything in square brackets: pattern1\n",
    "pattern1 = r\"\\[.*]\""
   ]
  },
  {
   "cell_type": "code",
   "execution_count": 97,
   "id": "666e897c-8318-43f4-be4c-5b9b786911b2",
   "metadata": {},
   "outputs": [
    {
     "name": "stdout",
     "output_type": "stream",
     "text": [
      "<re.Match object; span=(9, 32), match='[wind] [clop clop clop]'>\n"
     ]
    }
   ],
   "source": [
    "# Use re.search to find the first text in square brackets\n",
    "print(re.search(pattern1, scene_one))"
   ]
  },
  {
   "cell_type": "code",
   "execution_count": 99,
   "id": "0676df7a-95bb-4b0d-908e-9a9ad39edcef",
   "metadata": {},
   "outputs": [],
   "source": [
    "# Find the script notation at the beginning of the fourth sentence and print it\n",
    "pattern2 = r\"[\\w]+:\""
   ]
  },
  {
   "cell_type": "code",
   "execution_count": 105,
   "id": "1ff63390-a241-4f42-9dbb-c5fc42c6798f",
   "metadata": {},
   "outputs": [
    {
     "name": "stdout",
     "output_type": "stream",
     "text": [
      "<re.Match object; span=(0, 7), match='ARTHUR:'>\n"
     ]
    }
   ],
   "source": [
    "print(re.match(pattern2, sentences[3]))"
   ]
  },
  {
   "cell_type": "code",
   "execution_count": 119,
   "id": "5fc720ba-cec9-4db6-b97c-28735c176d0e",
   "metadata": {},
   "outputs": [],
   "source": [
    "from nltk.tokenize import regexp_tokenize"
   ]
  },
  {
   "cell_type": "code",
   "execution_count": 121,
   "id": "afa78203-17e2-4f2b-bcee-c6cafb39c0a3",
   "metadata": {},
   "outputs": [
    {
     "data": {
      "text/plain": [
       "['SOLDIER',\n",
       " '#1',\n",
       " 'Found',\n",
       " 'them',\n",
       " '?',\n",
       " 'In',\n",
       " 'Mercea',\n",
       " '?',\n",
       " 'The',\n",
       " 'coconut',\n",
       " 's',\n",
       " 'tropical',\n",
       " '!']"
      ]
     },
     "execution_count": 121,
     "metadata": {},
     "output_type": "execute_result"
    }
   ],
   "source": [
    "# Given the following string, which of the below patterns is the best tokenizer? If possible, you want to retain sentence punctuation as separate tokens, but have '#1' remain a single token.\n",
    "# Additionally, regexp_tokenize has been imported from nltk.tokenize. You can use regexp_tokenize(string, pattern) with my_string and one of the patterns as arguments to experiment for yourself and see which is the best tokenizer.\n",
    "my_string = \"SOLDIER #1: Found them? In Mercea? The coconut's tropical!\"\n",
    "regexp_tokenize(my_string, r\"(\\w+|#\\d|\\?|\\!)\")"
   ]
  },
  {
   "cell_type": "code",
   "execution_count": null,
   "id": "7f2e7733-61e3-4fd3-9a74-fc460d5a143c",
   "metadata": {},
   "outputs": [],
   "source": []
  }
 ],
 "metadata": {
  "kernelspec": {
   "display_name": "Python 3 (ipykernel)",
   "language": "python",
   "name": "python3"
  },
  "language_info": {
   "codemirror_mode": {
    "name": "ipython",
    "version": 3
   },
   "file_extension": ".py",
   "mimetype": "text/x-python",
   "name": "python",
   "nbconvert_exporter": "python",
   "pygments_lexer": "ipython3",
   "version": "3.12.4"
  }
 },
 "nbformat": 4,
 "nbformat_minor": 5
}
