{
 "cells": [
  {
   "cell_type": "code",
   "execution_count": 7,
   "id": "21bdeeb2-e770-4a74-a9e5-b4395aaecf83",
   "metadata": {},
   "outputs": [],
   "source": [
    "import re"
   ]
  },
  {
   "cell_type": "code",
   "execution_count": 1,
   "id": "36305c2c-d8d0-46cb-8379-25957feed1ef",
   "metadata": {},
   "outputs": [],
   "source": [
    "my_string = \"Let's write RegEx!  Won't that be fun?  I sure think so.  Can you find 4 sentences?  Or perhaps, all 19 words?\""
   ]
  },
  {
   "cell_type": "code",
   "execution_count": 3,
   "id": "9477bc7f-6d1a-499b-ae6d-c9c4662970e8",
   "metadata": {},
   "outputs": [],
   "source": [
    "# Write a pattern to match sentence endings: sentence_endings\n",
    "sentence_endings = r\"[.?!]\""
   ]
  },
  {
   "cell_type": "code",
   "execution_count": 9,
   "id": "693de8c1-1a70-45eb-87f4-0486f4c004f2",
   "metadata": {},
   "outputs": [
    {
     "name": "stdout",
     "output_type": "stream",
     "text": [
      "[\"Let's write RegEx\", \"  Won't that be fun\", '  I sure think so', '  Can you find 4 sentences', '  Or perhaps, all 19 words', '']\n"
     ]
    }
   ],
   "source": [
    "print(re.split(sentence_endings, my_string))"
   ]
  },
  {
   "cell_type": "code",
   "execution_count": 11,
   "id": "e81216e2-dc02-4bbd-a07f-0e2f763cf2dc",
   "metadata": {},
   "outputs": [],
   "source": [
    "# Find all capitalized words in my_string and print the result\n",
    "capitalized_words = r\"[A-Z]\\w+\""
   ]
  },
  {
   "cell_type": "code",
   "execution_count": 13,
   "id": "7c118ee0-6de2-4717-97eb-bebd9b898dba",
   "metadata": {},
   "outputs": [
    {
     "name": "stdout",
     "output_type": "stream",
     "text": [
      "['Let', 'RegEx', 'Won', 'Can', 'Or']\n"
     ]
    }
   ],
   "source": [
    "print(re.findall(capitalized_words, my_string))"
   ]
  },
  {
   "cell_type": "code",
   "execution_count": 15,
   "id": "42f72d10-8c89-4bf0-8e4f-a3d6129634f8",
   "metadata": {},
   "outputs": [],
   "source": [
    "# Split my_string on spaces and print the result\n",
    "spaces = r\"\\s\""
   ]
  },
  {
   "cell_type": "code",
   "execution_count": 17,
   "id": "b885ecf2-220a-4f3a-8036-e96deafbf175",
   "metadata": {},
   "outputs": [
    {
     "name": "stdout",
     "output_type": "stream",
     "text": [
      "[\"Let's\", 'write', 'RegEx!', '', \"Won't\", 'that', 'be', 'fun?', '', 'I', 'sure', 'think', 'so.', '', 'Can', 'you', 'find', '4', 'sentences?', '', 'Or', 'perhaps,', 'all', '19', 'words?']\n"
     ]
    }
   ],
   "source": [
    "print(re.split(spaces, my_string))"
   ]
  },
  {
   "cell_type": "code",
   "execution_count": 19,
   "id": "64b01f6a-ac09-4fdd-b24f-c28f2c929245",
   "metadata": {},
   "outputs": [],
   "source": [
    "# Find all digits in my_string and print the result\n",
    "digits = r\"\\d+\""
   ]
  },
  {
   "cell_type": "code",
   "execution_count": 21,
   "id": "1e0ef8dd-00a1-4a16-86e3-3642b7480198",
   "metadata": {},
   "outputs": [
    {
     "name": "stdout",
     "output_type": "stream",
     "text": [
      "['4', '19']\n"
     ]
    }
   ],
   "source": [
    "print(re.findall(digits, my_string))"
   ]
  },
  {
   "cell_type": "code",
   "execution_count": null,
   "id": "86d31f04-afe2-4121-82be-abbff4b13e67",
   "metadata": {},
   "outputs": [],
   "source": []
  }
 ],
 "metadata": {
  "kernelspec": {
   "display_name": "Python 3 (ipykernel)",
   "language": "python",
   "name": "python3"
  },
  "language_info": {
   "codemirror_mode": {
    "name": "ipython",
    "version": 3
   },
   "file_extension": ".py",
   "mimetype": "text/x-python",
   "name": "python",
   "nbconvert_exporter": "python",
   "pygments_lexer": "ipython3",
   "version": "3.12.4"
  }
 },
 "nbformat": 4,
 "nbformat_minor": 5
}
