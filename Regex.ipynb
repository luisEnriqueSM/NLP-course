{
 "cells": [
  {
   "cell_type": "code",
   "execution_count": 3,
   "id": "c63d7a3f-c4e6-4451-9249-1825b926b1c2",
   "metadata": {},
   "outputs": [],
   "source": [
    "import re"
   ]
  },
  {
   "cell_type": "code",
   "execution_count": 5,
   "id": "3d774789-c045-40ae-8c9a-1a712a4c5018",
   "metadata": {},
   "outputs": [],
   "source": [
    "my_string = \"Let's write RegEx!\""
   ]
  },
  {
   "cell_type": "code",
   "execution_count": 32,
   "id": "9c662031-c3ed-49d2-a2c8-b379898246af",
   "metadata": {},
   "outputs": [],
   "source": [
    "PATTERN = r\"\\w+\""
   ]
  },
  {
   "cell_type": "code",
   "execution_count": 34,
   "id": "e2106779-888b-4524-bed5-79ab906c0db0",
   "metadata": {},
   "outputs": [
    {
     "data": {
      "text/plain": [
       "['Let', 's', 'write', 'RegEx']"
      ]
     },
     "execution_count": 34,
     "metadata": {},
     "output_type": "execute_result"
    }
   ],
   "source": [
    "re.findall(PATTERN, my_string)"
   ]
  },
  {
   "cell_type": "code",
   "execution_count": null,
   "id": "e3ed2bcb-c22d-4218-a1af-5b40e813fa92",
   "metadata": {},
   "outputs": [],
   "source": []
  }
 ],
 "metadata": {
  "kernelspec": {
   "display_name": "Python 3 (ipykernel)",
   "language": "python",
   "name": "python3"
  },
  "language_info": {
   "codemirror_mode": {
    "name": "ipython",
    "version": 3
   },
   "file_extension": ".py",
   "mimetype": "text/x-python",
   "name": "python",
   "nbconvert_exporter": "python",
   "pygments_lexer": "ipython3",
   "version": "3.12.4"
  }
 },
 "nbformat": 4,
 "nbformat_minor": 5
}
